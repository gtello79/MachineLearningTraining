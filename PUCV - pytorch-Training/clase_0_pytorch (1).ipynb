{
  "nbformat": 4,
  "nbformat_minor": 0,
  "metadata": {
    "colab": {
      "provenance": [],
      "gpuType": "T4"
    },
    "kernelspec": {
      "name": "python3",
      "display_name": "Python 3"
    },
    "language_info": {
      "name": "python"
    },
    "accelerator": "GPU"
  },
  "cells": [
    {
      "cell_type": "markdown",
      "source": [
        "# 00. Fundaments de PyTorch\n",
        "\n",
        "## Que es PyTorch?\n",
        "\n",
        "[PyTorch](https://pytorch.org/) es un open source machine learning y deep learning framework.\n",
        "\n",
        "## Para que se usa?\n",
        "\n",
        "PyTorch le permite manipular y procesar datos y escribir algoritmos de aprendizaje automático utilizando código Python.\n",
        "\n",
        "## Quien usa PyTorch?\n",
        "\n",
        "Muchas de las empresas tecnológicas más importantes del mundo, como [Meta (Facebook)](https://ai.facebook.com/blog/pytorch-builds-the-future-of-ai-and-machine-learning-at-facebook/ ), Tesla y Microsoft, así como empresas de investigación de inteligencia artificial como [OpenAI use PyTorch](https://openai.com/blog/openai-pytorch/) para impulsar la investigación y llevar el aprendizaje automático a sus productos.\n",
        "\n",
        "![pytorch being used across industry and research](https://raw.githubusercontent.com/mrdbourke/pytorch-deep-learning/main/images/00-pytorch-being-used-across-research-and-industry.png)\n",
        "\n",
        "\n",
        "## Why use PyTorch?\n",
        "\n",
        "A los investigadores de aprendizaje automático les encanta usar PyTorch. Y a partir de febrero de 2022, PyTorch es el [marco de aprendizaje profundo más utilizado en Papers With Code] (https://paperswithcode.com/trends), un sitio web para rastrear trabajos de investigación de aprendizaje automático y los repositorios de código adjuntos.\n",
        "\n",
        "PyTorch también ayuda a encargarse de muchas cosas, como la aceleración de GPU (haciendo que su código se ejecute más rápido) detrás de escena.\n",
        "\n",
        "Así que puedes concentrarte en manipular datos y escribir algoritmos y PyTorch se asegurará de que funcione rápido.\n",
        "\n",
        "Y si empresas como Tesla y Meta (Facebook) lo utilizan para crear modelos que implementan para impulsar cientos de aplicaciones, conducir miles de automóviles y entregar contenido a miles de millones de personas, también es claramente capaz en el frente del desarrollo.\n",
        "\n",
        "## Lo que vamos a cubrir en este módulo\n",
        "\n",
        "\n",
        "| **Topic** | **Contents** |\n",
        "| ----- | ----- |\n",
        "| **Introduction to tensors** | Los tensores son el componente básico de todo el machine learning y deep learning. |\n",
        "| **Creating tensors** | Los tensores pueden representar casi cualquier tipo de datos (imágenes, palabras, tablas de números). |\n",
        "| **Getting information from tensors** | Si puede poner información en un tensor, querrá sacarla también. |\n",
        "| **Manipulating tensors** | Machine learning algorithms (como las neural networks) implican manipular tensores de muchas maneras diferentes, como sumar, multiplicar y combinar. |\n",
        "| **Dealing with tensor shapes** | Uno de los problemas más comunes en el deep learning es lidiar con los desajustes de formas (intentar mezclar tensores de formas incorrectas con otros tensores). |\n",
        "| **Indexing on tensors** | Si ha indexado una lista de Python o una matriz NumPy, es muy similar con los tensores, excepto que pueden tener muchas más dimensiones. |\n",
        "| **Mixing PyTorch tensors and NumPy** | PyTorch utiliza tensores ([`torch.Tensor`](https://pytorch.org/docs/stable/tensors.html)), NumPy utiliza arrays ([`np.ndarray`](https://numpy.org/doc/stable/reference/generated/numpy.ndarray.html)) a veces querrás mezclarlos y combinarlos. |\n",
        "| **Reproducibility** | El Machine learning es muy experimental y, dado que utiliza mucha *aleatoriedad* para funcionar, a veces querrá que esa *aleatoriedad* no sea tan aleatoria. |\n",
        "| **Running tensors on GPU** | GPUs (Graphics Processing Units) hacen que tu código sea veloz, PyTorch facilita la ejecución de su código en GPU. |\n"
      ],
      "metadata": {
        "id": "m9tt8FH-KRfq"
      }
    },
    {
      "cell_type": "code",
      "execution_count": 1,
      "metadata": {
        "colab": {
          "base_uri": "https://localhost:8080/",
          "height": 35
        },
        "id": "uDQ9qR1xKQQR",
        "outputId": "26a5faa4-237f-4e1a-ff85-2ec6014a335d"
      },
      "outputs": [
        {
          "output_type": "execute_result",
          "data": {
            "text/plain": [
              "'2.0.1+cu118'"
            ],
            "application/vnd.google.colaboratory.intrinsic+json": {
              "type": "string"
            }
          },
          "metadata": {},
          "execution_count": 1
        }
      ],
      "source": [
        "import torch\n",
        "torch.__version__"
      ]
    },
    {
      "cell_type": "code",
      "source": [],
      "metadata": {
        "id": "YEyizoQRFsou"
      },
      "execution_count": null,
      "outputs": []
    },
    {
      "cell_type": "markdown",
      "source": [
        "## Introduction to tensors\n",
        "\n",
        "Ahora que hemos importado PyTorch, es hora de aprender sobre los tensores.\n",
        "\n",
        "Los tensores son el componente fundamental del aprendizaje automático.\n",
        "Su trabajo es representar datos de forma numérica.\n",
        "\n",
        "Por ejemplo, podría representar una imagen como un tensor con forma `[3, 224, 224]` que significaría `[color_canales, alto, ancho]`, ya que la imagen tiene `3` canales de color (rojo, verde, azul), una altura de `224` píxeles y un ancho de `224` píxeles.\n",
        "\n",
        "![example of going from an input image to a tensor representation of the image, image gets broken down into 3 colour channels as well as numbers to represent the height and width](https://raw.githubusercontent.com/mrdbourke/pytorch-deep-learning/main/images/00-tensor-shape-example-of-image.png)\n",
        "\n"
      ],
      "metadata": {
        "id": "zrB7T9lacIro"
      }
    },
    {
      "cell_type": "markdown",
      "source": [
        "### Creating tensors\n",
        "\n",
        "\n",
        "Lo primero que vamos a crear es un **escalar**. Un escalar es un solo número y en términos de tensor es un tensor de dimensión cero.\n"
      ],
      "metadata": {
        "id": "_TjiRAhhc5MB"
      }
    },
    {
      "cell_type": "code",
      "source": [
        "# Scalar\n",
        "scalar = torch.tensor(7)\n",
        "scalar"
      ],
      "metadata": {
        "colab": {
          "base_uri": "https://localhost:8080/"
        },
        "id": "lD7MFj6JKR5w",
        "outputId": "aef20bc1-3472-4d74-a765-cfb557333600"
      },
      "execution_count": 2,
      "outputs": [
        {
          "output_type": "execute_result",
          "data": {
            "text/plain": [
              "tensor(7)"
            ]
          },
          "metadata": {},
          "execution_count": 2
        }
      ]
    },
    {
      "cell_type": "markdown",
      "source": [
        "\n",
        "Se imprimió el tensor(7)\n",
        "Eso significa que aunque escalar es un solo número, es de tipo `torch.Tensor`.\n",
        "\n",
        "Podemos verificar las dimensiones de un tensor usando el atributo ndim."
      ],
      "metadata": {
        "id": "nt7uL98OeGgC"
      }
    },
    {
      "cell_type": "code",
      "source": [
        "scalar.ndim"
      ],
      "metadata": {
        "colab": {
          "base_uri": "https://localhost:8080/"
        },
        "id": "KCOWwOQBdJfb",
        "outputId": "3c46b4a2-b86e-46f9-be8b-1a1f7548efa6"
      },
      "execution_count": 3,
      "outputs": [
        {
          "output_type": "execute_result",
          "data": {
            "text/plain": [
              "0"
            ]
          },
          "metadata": {},
          "execution_count": 3
        }
      ]
    },
    {
      "cell_type": "markdown",
      "source": [
        "¿Y si quisiéramos recuperar el número del tensor?\n",
        "Para hacerlo podemos usar el método item()."
      ],
      "metadata": {
        "id": "0omGkj6keqXU"
      }
    },
    {
      "cell_type": "code",
      "source": [
        "# Get the Python number within a tensor (only works with one-element tensors)\n",
        "scalar.item()"
      ],
      "metadata": {
        "colab": {
          "base_uri": "https://localhost:8080/"
        },
        "id": "OfhxajtIeYqk",
        "outputId": "6bf53ec3-6c82-478e-baa0-20b4b8ee838b"
      },
      "execution_count": 4,
      "outputs": [
        {
          "output_type": "execute_result",
          "data": {
            "text/plain": [
              "7"
            ]
          },
          "metadata": {},
          "execution_count": 4
        }
      ]
    },
    {
      "cell_type": "markdown",
      "source": [
        "\n",
        "\n",
        "Un **vector** es un tensor de una sola dimensión pero puede contener muchos números.\n",
        "\n",
        "Por ejemplo, podrías tener un vector `[3, 2]` para describir `[dormitorios, baños]` en tu casa. O podría tener `[3, 2, 2]` para describir `[dormitorios, baños, aparcamientos]` en su casa.\n",
        "\n",
        "La tendencia importante aquí es que un vector es flexible en lo que puede representar (lo mismo con los tensores)."
      ],
      "metadata": {
        "id": "k2p9JuQpfhoC"
      }
    },
    {
      "cell_type": "code",
      "source": [
        "# Vector\n",
        "vector = torch.tensor([7, 3, 7])\n",
        "vector"
      ],
      "metadata": {
        "colab": {
          "base_uri": "https://localhost:8080/"
        },
        "id": "O7uUWreMe0B-",
        "outputId": "d4edfebb-6d1d-43aa-ab64-df049856a0d2"
      },
      "execution_count": 5,
      "outputs": [
        {
          "output_type": "execute_result",
          "data": {
            "text/plain": [
              "tensor([7, 3, 7])"
            ]
          },
          "metadata": {},
          "execution_count": 5
        }
      ]
    },
    {
      "cell_type": "markdown",
      "source": [
        "¿Cuántas dimensiones crees que tendrá?"
      ],
      "metadata": {
        "id": "weMLD1OGgySE"
      }
    },
    {
      "cell_type": "code",
      "source": [
        "# Check the number of dimensions of vector\n",
        "vector.ndim"
      ],
      "metadata": {
        "colab": {
          "base_uri": "https://localhost:8080/"
        },
        "id": "mU4LXabygv4O",
        "outputId": "ea5888c4-c0dc-42de-c114-315101fc2de4"
      },
      "execution_count": 6,
      "outputs": [
        {
          "output_type": "execute_result",
          "data": {
            "text/plain": [
              "1"
            ]
          },
          "metadata": {},
          "execution_count": 6
        }
      ]
    },
    {
      "cell_type": "markdown",
      "source": [
        "Otro concepto importante para los tensores es su atributo de `shape`.  \n",
        "\n",
        "Te dice cómo están dispuestos los elementos dentro de ellos."
      ],
      "metadata": {
        "id": "YDdTWfA1hFBu"
      }
    },
    {
      "cell_type": "code",
      "source": [
        "# Check shape of vector\n",
        "vector.shape"
      ],
      "metadata": {
        "colab": {
          "base_uri": "https://localhost:8080/"
        },
        "id": "YCERa3gVg2Dn",
        "outputId": "10d4cac0-82a2-4641-91e6-03983a8a524b"
      },
      "execution_count": 7,
      "outputs": [
        {
          "output_type": "execute_result",
          "data": {
            "text/plain": [
              "torch.Size([3])"
            ]
          },
          "metadata": {},
          "execution_count": 7
        }
      ]
    },
    {
      "cell_type": "code",
      "source": [
        "for i in vector:\n",
        "  print(i)"
      ],
      "metadata": {
        "colab": {
          "base_uri": "https://localhost:8080/"
        },
        "id": "GcIpy-3lGEen",
        "outputId": "130613f0-7ef9-4a8c-839b-d76f82bf61e8"
      },
      "execution_count": 12,
      "outputs": [
        {
          "output_type": "stream",
          "name": "stdout",
          "text": [
            "tensor(7)\n",
            "tensor(3)\n",
            "tensor(7)\n"
          ]
        }
      ]
    },
    {
      "cell_type": "markdown",
      "source": [
        "Let's now see a **matrix**."
      ],
      "metadata": {
        "id": "Or4wlCVVhhTA"
      }
    },
    {
      "cell_type": "code",
      "source": [
        "# Matrix\n",
        "MATRIX = torch.tensor([[7, 8],\n",
        "                       [9, 10]])\n",
        "MATRIX"
      ],
      "metadata": {
        "colab": {
          "base_uri": "https://localhost:8080/"
        },
        "id": "mmbOaBdJhbeh",
        "outputId": "336298e3-fc81-4c3c-c917-219a89a5731a"
      },
      "execution_count": 13,
      "outputs": [
        {
          "output_type": "execute_result",
          "data": {
            "text/plain": [
              "tensor([[ 7,  8],\n",
              "        [ 9, 10]])"
            ]
          },
          "metadata": {},
          "execution_count": 13
        }
      ]
    },
    {
      "cell_type": "code",
      "source": [
        "# Check number of dimensions\n",
        "MATRIX.ndim"
      ],
      "metadata": {
        "colab": {
          "base_uri": "https://localhost:8080/"
        },
        "id": "4JfTFv7Ihi5A",
        "outputId": "cb0cf58f-8785-42b0-a089-fdf3ad0bf8c9"
      },
      "execution_count": 14,
      "outputs": [
        {
          "output_type": "execute_result",
          "data": {
            "text/plain": [
              "2"
            ]
          },
          "metadata": {},
          "execution_count": 14
        }
      ]
    },
    {
      "cell_type": "code",
      "source": [
        "# Check shape\n",
        "MATRIX.shape"
      ],
      "metadata": {
        "colab": {
          "base_uri": "https://localhost:8080/"
        },
        "id": "D30RoBkahwkX",
        "outputId": "91878fa0-7287-488f-da0a-b401983f8878"
      },
      "execution_count": 15,
      "outputs": [
        {
          "output_type": "execute_result",
          "data": {
            "text/plain": [
              "torch.Size([2, 2])"
            ]
          },
          "metadata": {},
          "execution_count": 15
        }
      ]
    },
    {
      "cell_type": "code",
      "source": [
        "# Tensor\n",
        "TENSOR = torch.tensor([[[1, 2, 3],\n",
        "                        [3, 6, 9],\n",
        "                        [2, 4, 5]]])\n",
        "TENSOR"
      ],
      "metadata": {
        "colab": {
          "base_uri": "https://localhost:8080/"
        },
        "id": "KwWPpK3rh1Lr",
        "outputId": "833fbe0a-8a38-40e7-d390-a36ff36a416e"
      },
      "execution_count": 18,
      "outputs": [
        {
          "output_type": "execute_result",
          "data": {
            "text/plain": [
              "tensor([[[1, 2, 3],\n",
              "         [3, 6, 9],\n",
              "         [2, 4, 5]]])"
            ]
          },
          "metadata": {},
          "execution_count": 18
        }
      ]
    },
    {
      "cell_type": "code",
      "source": [
        "# Check number of dimensions for TENSOR\n",
        "TENSOR.ndim"
      ],
      "metadata": {
        "colab": {
          "base_uri": "https://localhost:8080/"
        },
        "id": "WTHS73sOh70K",
        "outputId": "0dad61ce-e395-465b-c7f7-9df6f51f2387"
      },
      "execution_count": 19,
      "outputs": [
        {
          "output_type": "execute_result",
          "data": {
            "text/plain": [
              "3"
            ]
          },
          "metadata": {},
          "execution_count": 19
        }
      ]
    },
    {
      "cell_type": "code",
      "source": [
        "# Check shape of TENSOR\n",
        "TENSOR.shape"
      ],
      "metadata": {
        "colab": {
          "base_uri": "https://localhost:8080/"
        },
        "id": "hRPJvOzviDk3",
        "outputId": "0ceabd77-ab9a-422c-e630-5be5abf6e620"
      },
      "execution_count": 20,
      "outputs": [
        {
          "output_type": "execute_result",
          "data": {
            "text/plain": [
              "torch.Size([1, 3, 3])"
            ]
          },
          "metadata": {},
          "execution_count": 20
        }
      ]
    },
    {
      "cell_type": "code",
      "source": [
        "\n",
        "#[num series, longitud , features]\n",
        ""
      ],
      "metadata": {
        "id": "KC2-CzpVGwws"
      },
      "execution_count": null,
      "outputs": []
    },
    {
      "cell_type": "code",
      "source": [
        "# Tensor\n",
        "TENSOR = torch.tensor([[[1, 2, 3],\n",
        "                        [3, 6, 9],\n",
        "                        [2, 4, 5]],\n",
        "                       [[1, 2, 3],\n",
        "                        [3, 6, 9],\n",
        "                        [2, 4, 5]],\n",
        "                       [[1, 2, 3],\n",
        "                        [3, 6, 9],\n",
        "                        [2, 4, 5]],\n",
        "                       [[1, 2, 3],\n",
        "                        [3, 6, 9],\n",
        "                        [2, 4, 5]]\n",
        "                      ])\n",
        "TENSOR"
      ],
      "metadata": {
        "colab": {
          "base_uri": "https://localhost:8080/"
        },
        "id": "06SlnSSoiFFE",
        "outputId": "b6948e6a-dfa8-4391-b77c-7968c897ba66"
      },
      "execution_count": 21,
      "outputs": [
        {
          "output_type": "execute_result",
          "data": {
            "text/plain": [
              "tensor([[[1, 2, 3],\n",
              "         [3, 6, 9],\n",
              "         [2, 4, 5]],\n",
              "\n",
              "        [[1, 2, 3],\n",
              "         [3, 6, 9],\n",
              "         [2, 4, 5]],\n",
              "\n",
              "        [[1, 2, 3],\n",
              "         [3, 6, 9],\n",
              "         [2, 4, 5]],\n",
              "\n",
              "        [[1, 2, 3],\n",
              "         [3, 6, 9],\n",
              "         [2, 4, 5]]])"
            ]
          },
          "metadata": {},
          "execution_count": 21
        }
      ]
    },
    {
      "cell_type": "code",
      "source": [
        "# Check number of dimensions for TENSOR\n",
        "TENSOR.ndim"
      ],
      "metadata": {
        "colab": {
          "base_uri": "https://localhost:8080/"
        },
        "id": "Xy9F_qb1iYOY",
        "outputId": "88e60621-0685-43d7-ec72-5ef890d76ad1"
      },
      "execution_count": 22,
      "outputs": [
        {
          "output_type": "execute_result",
          "data": {
            "text/plain": [
              "3"
            ]
          },
          "metadata": {},
          "execution_count": 22
        }
      ]
    },
    {
      "cell_type": "code",
      "source": [
        "# Check shape of TENSOR\n",
        "TENSOR.shape"
      ],
      "metadata": {
        "colab": {
          "base_uri": "https://localhost:8080/"
        },
        "id": "TnM4-VzHifT1",
        "outputId": "4469e470-21ab-4398-d689-331670157d15"
      },
      "execution_count": 23,
      "outputs": [
        {
          "output_type": "execute_result",
          "data": {
            "text/plain": [
              "torch.Size([4, 3, 3])"
            ]
          },
          "metadata": {},
          "execution_count": 23
        }
      ]
    },
    {
      "cell_type": "markdown",
      "source": [
        "### Tensores Random\n",
        "\n",
        "In essence:\n",
        "\n",
        "`Empezar con número aleatorios -> mirar la data -> actualizar los números random -> mirar la data -> actualizar los números random...`\n",
        "\n",
        "\n",
        " * Initialization\n",
        " * Representation\n",
        " * Optimization\n",
        "\n",
        "\n",
        "Por ahora, veamos cómo crear un tensor de números aleatorios [`torch.rand()`](https://pytorch.org/docs/stable/generated/torch.rand.html).\n"
      ],
      "metadata": {
        "id": "ZoORkURkixYP"
      }
    },
    {
      "cell_type": "code",
      "source": [
        "# Create a random tensor of size (3, 4)\n",
        "random_tensor = torch.rand(size=(3, 4))\n",
        "random_tensor"
      ],
      "metadata": {
        "colab": {
          "base_uri": "https://localhost:8080/"
        },
        "id": "i65X6r31igXY",
        "outputId": "a1bc22a4-7238-4255-fd6a-a14a69a9e64e"
      },
      "execution_count": 24,
      "outputs": [
        {
          "output_type": "execute_result",
          "data": {
            "text/plain": [
              "tensor([[0.5630, 0.3598, 0.4676, 0.5206],\n",
              "        [0.1535, 0.0688, 0.9549, 0.5311],\n",
              "        [0.9572, 0.6075, 0.1558, 0.3164]])"
            ]
          },
          "metadata": {},
          "execution_count": 24
        }
      ]
    },
    {
      "cell_type": "markdown",
      "source": [
        "La flexibilidad de `torch.rand()` es que podemos ajustar el `size` para que sea lo que queramos."
      ],
      "metadata": {
        "id": "BqHzvZWokDnr"
      }
    },
    {
      "cell_type": "code",
      "source": [
        "# Create a random tensor of size (4, 224, 3)\n",
        "random_image_size_tensor = torch.rand(size=(4, 224, 3))\n",
        "\n",
        "random_image_size_tensor.shape, random_image_size_tensor.ndim"
      ],
      "metadata": {
        "colab": {
          "base_uri": "https://localhost:8080/"
        },
        "id": "YjhlhPGtj5Zk",
        "outputId": "73166d20-b5db-4fb0-d422-90c7df5ab3f9"
      },
      "execution_count": 25,
      "outputs": [
        {
          "output_type": "execute_result",
          "data": {
            "text/plain": [
              "(torch.Size([4, 224, 3]), 3)"
            ]
          },
          "metadata": {},
          "execution_count": 25
        }
      ]
    },
    {
      "cell_type": "code",
      "source": [
        "random_image_size_tensor[0]"
      ],
      "metadata": {
        "colab": {
          "base_uri": "https://localhost:8080/"
        },
        "id": "hd-7-b2tkrKM",
        "outputId": "6ee38510-d82e-4e6b-e4de-57b88caaa63f"
      },
      "execution_count": 26,
      "outputs": [
        {
          "output_type": "execute_result",
          "data": {
            "text/plain": [
              "tensor([[0.9327, 0.3735, 0.6926],\n",
              "        [0.3034, 0.3217, 0.9531],\n",
              "        [0.5069, 0.3444, 0.2804],\n",
              "        [0.1776, 0.9170, 0.8172],\n",
              "        [0.5842, 0.1399, 0.0891],\n",
              "        [0.8748, 0.4421, 0.5746],\n",
              "        [0.8440, 0.0507, 0.4269],\n",
              "        [0.7128, 0.4474, 0.5165],\n",
              "        [0.4816, 0.0989, 0.5498],\n",
              "        [0.2676, 0.7330, 0.6781],\n",
              "        [0.0034, 0.3367, 0.2732],\n",
              "        [0.1797, 0.5412, 0.1341],\n",
              "        [0.4194, 0.5582, 0.9464],\n",
              "        [0.9490, 0.9675, 0.6204],\n",
              "        [0.5040, 0.5081, 0.4053],\n",
              "        [0.9389, 0.7233, 0.7180],\n",
              "        [0.0947, 0.8127, 0.6500],\n",
              "        [0.7125, 0.5301, 0.5636],\n",
              "        [0.2686, 0.4841, 0.9727],\n",
              "        [0.7370, 0.2372, 0.9956],\n",
              "        [0.1001, 0.7746, 0.6144],\n",
              "        [0.7354, 0.1238, 0.3239],\n",
              "        [0.5462, 0.6766, 0.7992],\n",
              "        [0.6647, 0.5351, 0.6151],\n",
              "        [0.6430, 0.2403, 0.4428],\n",
              "        [0.8267, 0.3051, 0.8426],\n",
              "        [0.4150, 0.6482, 0.6896],\n",
              "        [0.7063, 0.3658, 0.4511],\n",
              "        [0.4178, 0.6826, 0.1593],\n",
              "        [0.2185, 0.5384, 0.4216],\n",
              "        [0.7544, 0.0304, 0.3208],\n",
              "        [0.6960, 0.2626, 0.1031],\n",
              "        [0.0837, 0.5410, 0.7915],\n",
              "        [0.8512, 0.3910, 0.8064],\n",
              "        [0.8454, 0.3176, 0.3547],\n",
              "        [0.6268, 0.7250, 0.4924],\n",
              "        [0.6613, 0.6228, 0.6959],\n",
              "        [0.9603, 0.6753, 0.4442],\n",
              "        [0.1844, 0.3592, 0.9327],\n",
              "        [0.2115, 0.2723, 0.7332],\n",
              "        [0.5769, 0.7152, 0.7912],\n",
              "        [0.6230, 0.8663, 0.8626],\n",
              "        [0.5218, 0.8598, 0.2680],\n",
              "        [0.5107, 0.4083, 0.2968],\n",
              "        [0.7337, 0.4240, 0.5132],\n",
              "        [0.1696, 0.5950, 0.0649],\n",
              "        [0.1531, 0.1492, 0.3604],\n",
              "        [0.1269, 0.3650, 0.8063],\n",
              "        [0.7193, 0.9664, 0.9220],\n",
              "        [0.1046, 0.4563, 0.3637],\n",
              "        [0.5224, 0.2984, 0.1874],\n",
              "        [0.6167, 0.1385, 0.4851],\n",
              "        [0.2626, 0.9901, 0.9279],\n",
              "        [0.3341, 0.9460, 0.5475],\n",
              "        [0.6775, 0.2929, 0.4412],\n",
              "        [0.4611, 0.4094, 0.5829],\n",
              "        [0.8215, 0.7208, 0.0111],\n",
              "        [0.9841, 0.6106, 0.5177],\n",
              "        [0.1046, 0.6792, 0.3413],\n",
              "        [0.6193, 0.2500, 0.2117],\n",
              "        [0.0666, 0.8461, 0.9938],\n",
              "        [0.2912, 0.8253, 0.8879],\n",
              "        [0.8202, 0.4350, 0.8513],\n",
              "        [0.6997, 0.4881, 0.7663],\n",
              "        [0.8690, 0.0015, 0.6976],\n",
              "        [0.4255, 0.8136, 0.9867],\n",
              "        [0.7073, 0.9902, 0.6216],\n",
              "        [0.1007, 0.9552, 0.5038],\n",
              "        [0.3553, 0.8467, 0.1369],\n",
              "        [0.6653, 0.5917, 0.7793],\n",
              "        [0.7023, 0.5475, 0.9595],\n",
              "        [0.4236, 0.0317, 0.4076],\n",
              "        [0.3496, 0.4043, 0.8236],\n",
              "        [0.2058, 0.4909, 0.5377],\n",
              "        [0.8780, 0.6823, 0.4608],\n",
              "        [0.7649, 0.8153, 0.7971],\n",
              "        [0.2763, 0.2165, 0.1419],\n",
              "        [0.6392, 0.9282, 0.9972],\n",
              "        [0.7369, 0.9073, 0.8558],\n",
              "        [0.7008, 0.6644, 0.5919],\n",
              "        [0.0319, 0.1638, 0.9673],\n",
              "        [0.8269, 0.6775, 0.9599],\n",
              "        [0.4761, 0.8503, 0.1647],\n",
              "        [0.7292, 0.6874, 0.1848],\n",
              "        [0.6601, 0.7642, 0.3975],\n",
              "        [0.1801, 0.9376, 0.0482],\n",
              "        [0.1496, 0.3572, 0.3189],\n",
              "        [0.9389, 0.6962, 0.2038],\n",
              "        [0.5339, 0.8108, 0.0409],\n",
              "        [0.3710, 0.6092, 0.6077],\n",
              "        [0.7563, 0.1490, 0.5419],\n",
              "        [0.8849, 0.9977, 0.5170],\n",
              "        [0.6641, 0.5644, 0.0830],\n",
              "        [0.9468, 0.6182, 0.1776],\n",
              "        [0.2722, 0.6194, 0.1082],\n",
              "        [0.3458, 0.6259, 0.4227],\n",
              "        [0.0124, 0.2996, 0.9407],\n",
              "        [0.5537, 0.7814, 0.1999],\n",
              "        [0.7247, 0.1439, 0.0891],\n",
              "        [0.5030, 0.7873, 0.1252],\n",
              "        [0.8046, 0.0725, 0.8548],\n",
              "        [0.0893, 0.8241, 0.9390],\n",
              "        [0.7317, 0.3221, 0.5197],\n",
              "        [0.0718, 0.0079, 0.0722],\n",
              "        [0.2758, 0.3585, 0.4002],\n",
              "        [0.2738, 0.3079, 0.5490],\n",
              "        [0.4223, 0.9787, 0.4093],\n",
              "        [0.8401, 0.2609, 0.6518],\n",
              "        [0.7271, 0.8857, 0.2754],\n",
              "        [0.8261, 0.8442, 0.7060],\n",
              "        [0.1403, 0.4156, 0.8421],\n",
              "        [0.8859, 0.8837, 0.1386],\n",
              "        [0.5300, 0.9062, 0.6035],\n",
              "        [0.6492, 0.4842, 0.7237],\n",
              "        [0.6416, 0.0120, 0.6764],\n",
              "        [0.7906, 0.7815, 0.7392],\n",
              "        [0.6563, 0.1538, 0.2069],\n",
              "        [0.3753, 0.3426, 0.3149],\n",
              "        [0.4710, 0.7539, 0.5472],\n",
              "        [0.9687, 0.5398, 0.0873],\n",
              "        [0.1951, 0.0922, 0.0337],\n",
              "        [0.9954, 0.2896, 0.6197],\n",
              "        [0.6769, 0.4969, 0.0398],\n",
              "        [0.5478, 0.2744, 0.1892],\n",
              "        [0.9327, 0.7528, 0.3259],\n",
              "        [0.5178, 0.7064, 0.2081],\n",
              "        [0.1598, 0.3989, 0.2462],\n",
              "        [0.7253, 0.2694, 0.9632],\n",
              "        [0.1888, 0.8547, 0.6172],\n",
              "        [0.9212, 0.0121, 0.0830],\n",
              "        [0.0292, 0.2702, 0.2107],\n",
              "        [0.5109, 0.6252, 0.4292],\n",
              "        [0.4435, 0.9679, 0.1909],\n",
              "        [0.4275, 0.3379, 0.4005],\n",
              "        [0.1548, 0.1359, 0.1295],\n",
              "        [0.9142, 0.7187, 0.9540],\n",
              "        [0.8594, 0.5197, 0.4699],\n",
              "        [0.6986, 0.2269, 0.1885],\n",
              "        [0.0533, 0.9823, 0.7556],\n",
              "        [0.8586, 0.0248, 0.8154],\n",
              "        [0.5841, 0.3258, 0.0337],\n",
              "        [0.0989, 0.7350, 0.9319],\n",
              "        [0.4208, 0.8186, 0.1249],\n",
              "        [0.9022, 0.2336, 0.9663],\n",
              "        [0.5270, 0.4873, 0.4303],\n",
              "        [0.5468, 0.3224, 0.5981],\n",
              "        [0.6393, 0.4013, 0.7764],\n",
              "        [0.4486, 0.3397, 0.3307],\n",
              "        [0.3612, 0.5806, 0.8222],\n",
              "        [0.5188, 0.4952, 0.8002],\n",
              "        [0.0319, 0.6000, 0.6985],\n",
              "        [0.1775, 0.8195, 0.0206],\n",
              "        [0.3023, 0.4268, 0.4778],\n",
              "        [0.6314, 0.8737, 0.1509],\n",
              "        [0.3660, 0.6954, 0.8729],\n",
              "        [0.8249, 0.1848, 0.8129],\n",
              "        [0.8581, 0.8674, 0.1780],\n",
              "        [0.6262, 0.7574, 0.4651],\n",
              "        [0.0198, 0.6933, 0.1360],\n",
              "        [0.4963, 0.5145, 0.4124],\n",
              "        [0.2473, 0.5027, 0.2236],\n",
              "        [0.2122, 0.3567, 0.8897],\n",
              "        [0.2500, 0.0207, 0.9336],\n",
              "        [0.1495, 0.0877, 0.0089],\n",
              "        [0.6656, 0.3459, 0.4821],\n",
              "        [0.9305, 0.9252, 0.2825],\n",
              "        [0.7120, 0.9107, 0.8107],\n",
              "        [0.4927, 0.5793, 0.8616],\n",
              "        [0.5751, 0.8214, 0.6986],\n",
              "        [0.4948, 0.6728, 0.6955],\n",
              "        [0.5146, 0.7074, 0.8509],\n",
              "        [0.0566, 0.8747, 0.8914],\n",
              "        [0.1000, 0.4717, 0.2573],\n",
              "        [0.9039, 0.0628, 0.6535],\n",
              "        [0.0322, 0.0921, 0.7187],\n",
              "        [0.8764, 0.2091, 0.3831],\n",
              "        [0.9727, 0.5275, 0.6398],\n",
              "        [0.3302, 0.7048, 0.5079],\n",
              "        [0.8442, 0.0848, 0.8949],\n",
              "        [0.1924, 0.2350, 0.7178],\n",
              "        [0.2823, 0.4999, 0.9126],\n",
              "        [0.0833, 0.0186, 0.4678],\n",
              "        [0.3318, 0.5689, 0.6754],\n",
              "        [0.7988, 0.2788, 0.4632],\n",
              "        [0.3901, 0.1516, 0.4037],\n",
              "        [0.2617, 0.3216, 0.5444],\n",
              "        [0.4360, 0.8396, 0.7651],\n",
              "        [0.8896, 0.2786, 0.9974],\n",
              "        [0.4100, 0.5348, 0.5150],\n",
              "        [0.0552, 0.6534, 0.4355],\n",
              "        [0.8075, 0.7896, 0.9786],\n",
              "        [0.7910, 0.0885, 0.8286],\n",
              "        [0.0711, 0.3934, 0.1890],\n",
              "        [0.2982, 0.0174, 0.1299],\n",
              "        [0.4891, 0.2664, 0.7770],\n",
              "        [0.9634, 0.4738, 0.8760],\n",
              "        [0.7111, 0.6023, 0.7233],\n",
              "        [0.5907, 0.3822, 0.6339],\n",
              "        [0.1918, 0.2114, 0.7477],\n",
              "        [0.5672, 0.8213, 0.2702],\n",
              "        [0.6442, 0.5860, 0.8573],\n",
              "        [0.2223, 0.8604, 0.9639],\n",
              "        [0.7220, 0.7026, 0.4320],\n",
              "        [0.0649, 0.4800, 0.5543],\n",
              "        [0.0731, 0.3159, 0.9739],\n",
              "        [0.5084, 0.3570, 0.9850],\n",
              "        [0.2880, 0.7759, 0.6808],\n",
              "        [0.0313, 0.9833, 0.3669],\n",
              "        [0.6900, 0.0562, 0.4286],\n",
              "        [0.2410, 0.0451, 0.7507],\n",
              "        [0.2581, 0.6011, 0.7449],\n",
              "        [0.7080, 0.4480, 0.5939],\n",
              "        [0.0064, 0.1638, 0.3294],\n",
              "        [0.8301, 0.1993, 0.3376],\n",
              "        [0.3631, 0.8734, 0.8207],\n",
              "        [0.3834, 0.1049, 0.0711],\n",
              "        [0.0116, 0.6092, 0.8896],\n",
              "        [0.4144, 0.6692, 0.6975],\n",
              "        [0.3678, 0.9315, 0.9443],\n",
              "        [0.3554, 0.3112, 0.6715],\n",
              "        [0.3310, 0.5853, 0.6282],\n",
              "        [0.4096, 0.8702, 0.2235],\n",
              "        [0.1175, 0.9299, 0.7474],\n",
              "        [0.8426, 0.3243, 0.6445]])"
            ]
          },
          "metadata": {},
          "execution_count": 26
        }
      ]
    },
    {
      "cell_type": "markdown",
      "source": [
        "### Zeros and ones\n",
        "\n",
        "A veces solo querrás llenar los tensores con ceros o unos.\n",
        "\n",
        "Vamos a crear un tensor lleno de ceros con [`torch.zeros()`](https://pytorch.org/docs/stable/generated/torch.zeros.html)\n"
      ],
      "metadata": {
        "id": "uKXdWneVkL5Z"
      }
    },
    {
      "cell_type": "code",
      "source": [
        "# Create a tensor of all zeros\n",
        "zeros = torch.zeros(size=([1, 3, 10]))\n"
      ],
      "metadata": {
        "colab": {
          "base_uri": "https://localhost:8080/"
        },
        "id": "Z2W6UpQYkJ_w",
        "outputId": "c8bb0840-5454-409a-e1c1-46ef88ff5dd7"
      },
      "execution_count": 48,
      "outputs": [
        {
          "output_type": "execute_result",
          "data": {
            "text/plain": [
              "tensor([[[0., 0., 0., 0., 0., 0., 0., 0., 0., 0.],\n",
              "         [0., 0., 0., 0., 0., 0., 0., 0., 0., 0.],\n",
              "         [0., 0., 0., 0., 0., 0., 0., 0., 0., 0.]]])"
            ]
          },
          "metadata": {},
          "execution_count": 48
        }
      ]
    },
    {
      "cell_type": "markdown",
      "source": [
        "Podemos hacer lo mismo para crear un tensor de todos unos usando[`torch.ones()` ](https://pytorch.org/docs/stable/generated/torch.ones.html)"
      ],
      "metadata": {
        "id": "Ki7R6SnSld_N"
      }
    },
    {
      "cell_type": "code",
      "source": [
        "# Create a tensor of all ones\n",
        "ones = torch.ones(size=(3, 4))\n",
        "ones"
      ],
      "metadata": {
        "colab": {
          "base_uri": "https://localhost:8080/"
        },
        "id": "buX8yJxmkcoJ",
        "outputId": "89236a78-2966-40a5-dbfe-1e78763579ac"
      },
      "execution_count": 49,
      "outputs": [
        {
          "output_type": "execute_result",
          "data": {
            "text/plain": [
              "tensor([[1., 1., 1., 1.],\n",
              "        [1., 1., 1., 1.],\n",
              "        [1., 1., 1., 1.]])"
            ]
          },
          "metadata": {},
          "execution_count": 49
        }
      ]
    },
    {
      "cell_type": "markdown",
      "source": [
        "### Creating a range and tensors like\n",
        "A veces, es posible que desee un rango de números, como del 1 al 10 o del 0 al 100.\n",
        "\n",
        "Podemos usar `torch.arange(start, end, step)` para hacerlo.\n",
        "\n",
        "Donde:\n",
        "* `start` = Comienzo del range (e.g. 0)\n",
        "* `end` = Fin del range (e.g. 10)\n",
        "* `step` = Cuantos pasos entre cada valor (e.g. 1)\n"
      ],
      "metadata": {
        "id": "x1q7tDNVmSHS"
      }
    },
    {
      "cell_type": "code",
      "source": [
        "\n",
        "# Create a range of values 0 to 10\n",
        "zero_to_ten = torch.arange(start=0, end=10, step=1)\n",
        "zero_to_ten"
      ],
      "metadata": {
        "colab": {
          "base_uri": "https://localhost:8080/"
        },
        "id": "APzqoJ_wlpQr",
        "outputId": "dac4c235-01c5-4c13-db27-c05d3212942b"
      },
      "execution_count": 51,
      "outputs": [
        {
          "output_type": "execute_result",
          "data": {
            "text/plain": [
              "tensor([0, 1, 2, 3, 4, 5, 6, 7, 8, 9])"
            ]
          },
          "metadata": {},
          "execution_count": 51
        }
      ]
    },
    {
      "cell_type": "code",
      "source": [
        "\n",
        "# Create a range of values 0 to 20\n",
        "zero_to_twenty = torch.arange(start=0, end=20, step=2)\n",
        "zero_to_twenty"
      ],
      "metadata": {
        "colab": {
          "base_uri": "https://localhost:8080/"
        },
        "id": "e_eYRcmsmo4B",
        "outputId": "394effdc-754d-4b34-a767-ce9e9be9db89"
      },
      "execution_count": 52,
      "outputs": [
        {
          "output_type": "execute_result",
          "data": {
            "text/plain": [
              "tensor([ 0,  2,  4,  6,  8, 10, 12, 14, 16, 18])"
            ]
          },
          "metadata": {},
          "execution_count": 52
        }
      ]
    },
    {
      "cell_type": "markdown",
      "source": [
        "A veces, es posible que desee un tensor de cierto tipo con la misma forma que otro tensor.\n",
        "\n",
        "Por ejemplo, un tensor de todos ceros con la misma forma que un tensor anterior.\n",
        "\n",
        "Para hacerlo se puede usar [`torch.zeros_like(input)`](https://pytorch.org/docs/stable/generated/torch.zeros_like.html) o [`torch.ones_like(input)`](https://pytorch.org/docs/1.9.1/generated/torch.ones_like.html)"
      ],
      "metadata": {
        "id": "Zu9f_Y_wnRcg"
      }
    },
    {
      "cell_type": "code",
      "source": [
        "# Can also create a tensor of zeros similar to another tensor\n",
        "ten_zeros = torch.zeros_like(input=zero_to_ten) # will have same shape\n",
        "ten_zeros"
      ],
      "metadata": {
        "colab": {
          "base_uri": "https://localhost:8080/"
        },
        "id": "IA1qRjrwmqzb",
        "outputId": "edbe791f-c4e9-4dd2-f0f8-994e378eda07"
      },
      "execution_count": 53,
      "outputs": [
        {
          "output_type": "execute_result",
          "data": {
            "text/plain": [
              "tensor([0, 0, 0, 0, 0, 0, 0, 0, 0, 0])"
            ]
          },
          "metadata": {},
          "execution_count": 53
        }
      ]
    },
    {
      "cell_type": "markdown",
      "source": [
        "### Tensor datatypes\n",
        "\n",
        "Hay muchos diferentes [tipos de datos en PyTorch](https://pytorch.org/docs/stable/tensors.html#data-types) de tensores disponibles.\n",
        "\n",
        "El tipo más común (y generalmente el predeterminado) es `torch.float32` o `torch.float`.\n",
        "\n",
        "Esto se conoce como \"32-bit floating point\".\n",
        "\n",
        "Tambien hay 16-bit floating point (`torch.float16`) y 64-bit floating point (`torch.float64`).\n"
      ],
      "metadata": {
        "id": "kwkg__nOnlgV"
      }
    },
    {
      "cell_type": "code",
      "source": [
        "# Default datatype for tensors is float32\n",
        "float_32_tensor = torch.tensor([3.0, 6.0, 9.0],\n",
        "                               dtype=torch.float64, # defaults to None, which is torch.float32 or whatever datatype is passed\n",
        "                               )\n",
        "float_32_tensor.shape, float_32_tensor.dtype, float_32_tensor.device"
      ],
      "metadata": {
        "colab": {
          "base_uri": "https://localhost:8080/"
        },
        "id": "G3JyIvtknfhb",
        "outputId": "b27fcf60-e41a-4eda-bbc7-303aa1b7200c"
      },
      "execution_count": 54,
      "outputs": [
        {
          "output_type": "execute_result",
          "data": {
            "text/plain": [
              "(torch.Size([3]), torch.float64, device(type='cpu'))"
            ]
          },
          "metadata": {},
          "execution_count": 54
        }
      ]
    },
    {
      "cell_type": "markdown",
      "source": [
        "## Getting information from tensors\n",
        "\n",
        "Una vez que haya creado tensores, es posible que desee obtener información de ellos.\n",
        "\n",
        "Creemos un tensor aleatorio y descubramos detalles al respecto."
      ],
      "metadata": {
        "id": "2qwxeAWNpzO4"
      }
    },
    {
      "cell_type": "code",
      "source": [
        "# Create a tensor\n",
        "some_tensor = torch.rand(3, 4)\n",
        "\n",
        "# Find out details about it\n",
        "print(some_tensor)\n",
        "print(f\"Shape of tensor: {some_tensor.shape}\")\n",
        "print(f\"Datatype of tensor: {some_tensor.dtype}\")\n",
        "print(f\"Device tensor is stored on: {some_tensor.device}\") # will default to CPU"
      ],
      "metadata": {
        "colab": {
          "base_uri": "https://localhost:8080/"
        },
        "id": "nKEODmqgohx6",
        "outputId": "77d9791c-930f-4ac3-f478-f7ee9bbb02ec"
      },
      "execution_count": 55,
      "outputs": [
        {
          "output_type": "stream",
          "name": "stdout",
          "text": [
            "tensor([[0.7574, 0.3132, 0.9841, 0.4968],\n",
            "        [0.6589, 0.0980, 0.5814, 0.9199],\n",
            "        [0.9935, 0.9566, 0.3670, 0.9723]])\n",
            "Shape of tensor: torch.Size([3, 4])\n",
            "Datatype of tensor: torch.float32\n",
            "Device tensor is stored on: cpu\n"
          ]
        }
      ]
    },
    {
      "cell_type": "markdown",
      "source": [
        "## Manipulating tensors (tensor operations)\n",
        "\n",
        "En deep learning generalmente se manejan muchas operaciones con data (imagenes, texto, video, audio, estructuras, etc) que son respresentadas con tensores.\n",
        "\n",
        "These operations are combinaciones between:\n",
        "* Addition\n",
        "* Substraction\n",
        "* Multiplication (element-wise)\n",
        "* Division\n",
        "* Matrix multiplication\n"
      ],
      "metadata": {
        "id": "veac8CroqRLH"
      }
    },
    {
      "cell_type": "markdown",
      "source": [
        "### Basic operations\n",
        "\n",
        "Comencemos con algunas de las operaciones fundamentales, suma (`+`), resta (`-`), multiplicación (`*`).\n",
        "\n"
      ],
      "metadata": {
        "id": "PnyAjrTEqrsB"
      }
    },
    {
      "cell_type": "code",
      "source": [
        "# Create a tensor of values and add a number to it\n",
        "tensor = torch.tensor([1, 2, 3])\n",
        "tensor + 10"
      ],
      "metadata": {
        "colab": {
          "base_uri": "https://localhost:8080/"
        },
        "id": "87SKtlMFqDLq",
        "outputId": "62bf74a6-8820-4902-8faf-653e1f55a4d6"
      },
      "execution_count": 35,
      "outputs": [
        {
          "output_type": "execute_result",
          "data": {
            "text/plain": [
              "tensor([11, 12, 13])"
            ]
          },
          "metadata": {},
          "execution_count": 35
        }
      ]
    },
    {
      "cell_type": "code",
      "source": [
        "# Multiply it by 10\n",
        "tensor * 10"
      ],
      "metadata": {
        "colab": {
          "base_uri": "https://localhost:8080/"
        },
        "id": "M07eEcN7qyj3",
        "outputId": "ac5e9553-bd09-42c5-fda1-b71ab766db58"
      },
      "execution_count": 37,
      "outputs": [
        {
          "output_type": "execute_result",
          "data": {
            "text/plain": [
              "tensor([10, 20, 30])"
            ]
          },
          "metadata": {},
          "execution_count": 37
        }
      ]
    },
    {
      "cell_type": "code",
      "source": [
        "# Subtract and reassign\n",
        "tensor = tensor - 10\n",
        "tensor"
      ],
      "metadata": {
        "colab": {
          "base_uri": "https://localhost:8080/"
        },
        "id": "WQ05z9nPqz2N",
        "outputId": "43838021-5e12-431c-994c-7264d06362fb"
      },
      "execution_count": 38,
      "outputs": [
        {
          "output_type": "execute_result",
          "data": {
            "text/plain": [
              "tensor([-9, -8, -7])"
            ]
          },
          "metadata": {},
          "execution_count": 38
        }
      ]
    },
    {
      "cell_type": "code",
      "source": [
        "# Add and reassign\n",
        "tensor = tensor + 10\n",
        "tensor"
      ],
      "metadata": {
        "colab": {
          "base_uri": "https://localhost:8080/"
        },
        "id": "WuiiTiJBq2o3",
        "outputId": "402ee1e9-0062-480e-b2e0-b3b7832ee669"
      },
      "execution_count": 39,
      "outputs": [
        {
          "output_type": "execute_result",
          "data": {
            "text/plain": [
              "tensor([1, 2, 3])"
            ]
          },
          "metadata": {},
          "execution_count": 39
        }
      ]
    },
    {
      "cell_type": "code",
      "source": [
        "# Can also use torch functions\n",
        "torch.multiply(tensor, 10)"
      ],
      "metadata": {
        "colab": {
          "base_uri": "https://localhost:8080/"
        },
        "id": "F8__7KL_q5la",
        "outputId": "4932ec10-f67b-4746-e71b-20da0b0ee91f"
      },
      "execution_count": 40,
      "outputs": [
        {
          "output_type": "execute_result",
          "data": {
            "text/plain": [
              "tensor([10, 20, 30])"
            ]
          },
          "metadata": {},
          "execution_count": 40
        }
      ]
    },
    {
      "cell_type": "code",
      "source": [
        "# Original tensor is still unchanged\n",
        "tensor"
      ],
      "metadata": {
        "colab": {
          "base_uri": "https://localhost:8080/"
        },
        "id": "9rEHmS_Iq8LE",
        "outputId": "0437432b-5cba-4791-d507-8fa234d0d798"
      },
      "execution_count": 41,
      "outputs": [
        {
          "output_type": "execute_result",
          "data": {
            "text/plain": [
              "tensor([1, 2, 3])"
            ]
          },
          "metadata": {},
          "execution_count": 41
        }
      ]
    },
    {
      "cell_type": "code",
      "source": [
        "# Element-wise multiplication (each element multiplies its equivalent, index 0->0, 1->1, 2->2)\n",
        "print(tensor, \"*\", tensor)\n",
        "print(\"Equals:\", tensor * tensor)"
      ],
      "metadata": {
        "colab": {
          "base_uri": "https://localhost:8080/"
        },
        "id": "hjyZclP6q-Wy",
        "outputId": "40eb7a06-4ad4-42c7-c46f-091f8741a0f7"
      },
      "execution_count": 42,
      "outputs": [
        {
          "output_type": "stream",
          "name": "stdout",
          "text": [
            "tensor([1, 2, 3]) * tensor([1, 2, 3])\n",
            "Equals: tensor([1, 4, 9])\n"
          ]
        }
      ]
    },
    {
      "cell_type": "markdown",
      "source": [
        "### Matrix multiplication (is all you need)\n",
        "\n",
        "Vamos a crear un tensor y realizar una multiplicación por elementos y una multiplicación de matrices en él."
      ],
      "metadata": {
        "id": "8Iz23QLdr_J0"
      }
    },
    {
      "cell_type": "code",
      "source": [
        "import torch\n",
        "tensor = torch.tensor([1, 2, 3])\n",
        "tensor.shape"
      ],
      "metadata": {
        "colab": {
          "base_uri": "https://localhost:8080/"
        },
        "id": "-KZsvEr1rCV2",
        "outputId": "36bb9507-5e2d-4fd5-cd85-81ae97d86c6f"
      },
      "execution_count": 43,
      "outputs": [
        {
          "output_type": "execute_result",
          "data": {
            "text/plain": [
              "torch.Size([3])"
            ]
          },
          "metadata": {},
          "execution_count": 43
        }
      ]
    },
    {
      "cell_type": "code",
      "source": [
        "# Element-wise matrix multiplication\n",
        "tensor * tensor"
      ],
      "metadata": {
        "colab": {
          "base_uri": "https://localhost:8080/"
        },
        "id": "y4WAD6VKsI65",
        "outputId": "b2b3a3d9-9df0-4208-8ad4-a24e31cc8acd"
      },
      "execution_count": 44,
      "outputs": [
        {
          "output_type": "execute_result",
          "data": {
            "text/plain": [
              "tensor([1, 4, 9])"
            ]
          },
          "metadata": {},
          "execution_count": 44
        }
      ]
    },
    {
      "cell_type": "code",
      "source": [
        "# Matrix multiplication\n",
        "torch.matmul(tensor, tensor)"
      ],
      "metadata": {
        "colab": {
          "base_uri": "https://localhost:8080/"
        },
        "id": "fqqayAgFsKwC",
        "outputId": "14a4c747-c6de-4715-94fd-eff0331e0216"
      },
      "execution_count": 45,
      "outputs": [
        {
          "output_type": "execute_result",
          "data": {
            "text/plain": [
              "tensor(14)"
            ]
          },
          "metadata": {},
          "execution_count": 45
        }
      ]
    },
    {
      "cell_type": "code",
      "source": [
        "# Can also use the \"@\" symbol for matrix multiplication, though not recommended\n",
        "tensor @ tensor"
      ],
      "metadata": {
        "colab": {
          "base_uri": "https://localhost:8080/"
        },
        "id": "KLu-LD9JsOTW",
        "outputId": "44afe32a-d68d-40e7-f043-5f7297bbda8f"
      },
      "execution_count": 46,
      "outputs": [
        {
          "output_type": "execute_result",
          "data": {
            "text/plain": [
              "tensor(14)"
            ]
          },
          "metadata": {},
          "execution_count": 46
        }
      ]
    },
    {
      "cell_type": "code",
      "source": [
        "\n",
        "tensor_A = torch.tensor([[1, 2],\n",
        "                         [3, 4],\n",
        "                         [5, 6]], dtype=torch.float32)\n",
        "\n",
        "tensor_B = torch.tensor([[7, 10],\n",
        "                         [8, 11],\n",
        "                         [9, 12]], dtype=torch.float32)\n",
        "\n",
        "torch.matmul(tensor_A, tensor_B) # (this will error)"
      ],
      "metadata": {
        "colab": {
          "base_uri": "https://localhost:8080/",
          "height": 214
        },
        "id": "cPDdgJGXsaLL",
        "outputId": "12915361-26e9-4656-f545-3931d4f998b5"
      },
      "execution_count": 56,
      "outputs": [
        {
          "output_type": "error",
          "ename": "RuntimeError",
          "evalue": "ignored",
          "traceback": [
            "\u001b[0;31m---------------------------------------------------------------------------\u001b[0m",
            "\u001b[0;31mRuntimeError\u001b[0m                              Traceback (most recent call last)",
            "\u001b[0;32m<ipython-input-56-6a08445399b5>\u001b[0m in \u001b[0;36m<cell line: 9>\u001b[0;34m()\u001b[0m\n\u001b[1;32m      7\u001b[0m                          [9, 12]], dtype=torch.float32)\n\u001b[1;32m      8\u001b[0m \u001b[0;34m\u001b[0m\u001b[0m\n\u001b[0;32m----> 9\u001b[0;31m \u001b[0mtorch\u001b[0m\u001b[0;34m.\u001b[0m\u001b[0mmatmul\u001b[0m\u001b[0;34m(\u001b[0m\u001b[0mtensor_A\u001b[0m\u001b[0;34m,\u001b[0m \u001b[0mtensor_B\u001b[0m\u001b[0;34m)\u001b[0m \u001b[0;31m# (this will error)\u001b[0m\u001b[0;34m\u001b[0m\u001b[0;34m\u001b[0m\u001b[0m\n\u001b[0m",
            "\u001b[0;31mRuntimeError\u001b[0m: mat1 and mat2 shapes cannot be multiplied (3x2 and 3x2)"
          ]
        }
      ]
    },
    {
      "cell_type": "code",
      "source": [
        "# View tensor_A and tensor_B\n",
        "print(tensor_A)\n",
        "print(tensor_B)"
      ],
      "metadata": {
        "colab": {
          "base_uri": "https://localhost:8080/"
        },
        "id": "oey_OpG4ssZL",
        "outputId": "e12870b2-4f23-4dcd-9c50-a7cd91331440"
      },
      "execution_count": 57,
      "outputs": [
        {
          "output_type": "stream",
          "name": "stdout",
          "text": [
            "tensor([[1., 2.],\n",
            "        [3., 4.],\n",
            "        [5., 6.]])\n",
            "tensor([[ 7., 10.],\n",
            "        [ 8., 11.],\n",
            "        [ 9., 12.]])\n"
          ]
        }
      ]
    },
    {
      "cell_type": "code",
      "source": [
        "# View tensor_A and tensor_B.T\n",
        "print(tensor_A)\n",
        "print(tensor_B.T)"
      ],
      "metadata": {
        "colab": {
          "base_uri": "https://localhost:8080/"
        },
        "id": "9ndtBxlHs2A0",
        "outputId": "c08d8887-69a8-4553-fa6a-e16f43f81ea9"
      },
      "execution_count": 58,
      "outputs": [
        {
          "output_type": "stream",
          "name": "stdout",
          "text": [
            "tensor([[1., 2.],\n",
            "        [3., 4.],\n",
            "        [5., 6.]])\n",
            "tensor([[ 7.,  8.,  9.],\n",
            "        [10., 11., 12.]])\n"
          ]
        }
      ]
    },
    {
      "cell_type": "code",
      "source": [
        "# The operation works when tensor_B is transposed\n",
        "print(f\"Original shapes: tensor_A = {tensor_A.shape}, tensor_B = {tensor_B.shape}\\n\")\n",
        "print(f\"New shapes: tensor_A = {tensor_A.shape} (same as above), tensor_B.T = {tensor_B.T.shape}\\n\")\n",
        "print(f\"Multiplying: {tensor_A.shape} * {tensor_B.T.shape} <- inner dimensions match\\n\")\n",
        "print(\"Output:\\n\")\n",
        "output = torch.matmul(tensor_A, tensor_B.T)\n",
        "print(output)\n",
        "print(f\"\\nOutput shape: {output.shape}\")"
      ],
      "metadata": {
        "colab": {
          "base_uri": "https://localhost:8080/"
        },
        "id": "S3auSZzIs3wC",
        "outputId": "1fd88829-a206-4938-8c8a-11fd8f842097"
      },
      "execution_count": 59,
      "outputs": [
        {
          "output_type": "stream",
          "name": "stdout",
          "text": [
            "Original shapes: tensor_A = torch.Size([3, 2]), tensor_B = torch.Size([3, 2])\n",
            "\n",
            "New shapes: tensor_A = torch.Size([3, 2]) (same as above), tensor_B.T = torch.Size([2, 3])\n",
            "\n",
            "Multiplying: torch.Size([3, 2]) * torch.Size([2, 3]) <- inner dimensions match\n",
            "\n",
            "Output:\n",
            "\n",
            "tensor([[ 27.,  30.,  33.],\n",
            "        [ 61.,  68.,  75.],\n",
            "        [ 95., 106., 117.]])\n",
            "\n",
            "Output shape: torch.Size([3, 3])\n"
          ]
        }
      ]
    },
    {
      "cell_type": "code",
      "source": [
        "# torch.mm is a shortcut for matmul\n",
        "torch.mm(tensor_A, tensor_B.T)"
      ],
      "metadata": {
        "colab": {
          "base_uri": "https://localhost:8080/"
        },
        "id": "A_uxsQVKs6M7",
        "outputId": "4944e95a-017b-4f57-925c-e93cb37c110f"
      },
      "execution_count": 51,
      "outputs": [
        {
          "output_type": "execute_result",
          "data": {
            "text/plain": [
              "tensor([[ 27.,  30.,  33.],\n",
              "        [ 61.,  68.,  75.],\n",
              "        [ 95., 106., 117.]])"
            ]
          },
          "metadata": {},
          "execution_count": 51
        }
      ]
    },
    {
      "cell_type": "markdown",
      "source": [
        "### Finding the min, max, mean, sum, etc (aggregation)\n",
        "\n",
        "\n",
        "Vamos a crear un tensor y luego encontrar el máximo, el mínimo, la media y la suma.\n",
        "\n",
        "\n",
        "\n"
      ],
      "metadata": {
        "id": "-safjT-GuXD8"
      }
    },
    {
      "cell_type": "code",
      "source": [
        "# Create a tensor\n",
        "x = torch.arange(0, 100, 10)\n",
        "x"
      ],
      "metadata": {
        "colab": {
          "base_uri": "https://localhost:8080/"
        },
        "id": "O9kndAuXtI7C",
        "outputId": "6a4eff41-ec77-47e1-da00-3faaa48ef965"
      },
      "execution_count": 60,
      "outputs": [
        {
          "output_type": "execute_result",
          "data": {
            "text/plain": [
              "tensor([ 0, 10, 20, 30, 40, 50, 60, 70, 80, 90])"
            ]
          },
          "metadata": {},
          "execution_count": 60
        }
      ]
    },
    {
      "cell_type": "code",
      "source": [
        "print(f\"Minimum: {x.min()}\")\n",
        "print(f\"Maximum: {x.max()}\")\n",
        "# print(f\"Mean: {x.mean()}\") # this will error\n",
        "print(f\"Mean: {x.type(torch.float32).mean()}\") # won't work without float datatype\n",
        "print(f\"Sum: {x.sum()}\")"
      ],
      "metadata": {
        "colab": {
          "base_uri": "https://localhost:8080/"
        },
        "id": "m2YXUkt9ueSm",
        "outputId": "616634b0-6699-41f4-9fce-f2d81086289e"
      },
      "execution_count": 61,
      "outputs": [
        {
          "output_type": "stream",
          "name": "stdout",
          "text": [
            "Minimum: 0\n",
            "Maximum: 90\n",
            "Mean: 45.0\n",
            "Sum: 450\n"
          ]
        }
      ]
    },
    {
      "cell_type": "code",
      "source": [
        "torch.max(x), torch.min(x), torch.mean(x.type(torch.float32)), torch.sum(x)"
      ],
      "metadata": {
        "colab": {
          "base_uri": "https://localhost:8080/"
        },
        "id": "ZB2dJjwFufiE",
        "outputId": "486f7d3f-0631-48cc-c8eb-84a5cf5d6344"
      },
      "execution_count": 62,
      "outputs": [
        {
          "output_type": "execute_result",
          "data": {
            "text/plain": [
              "(tensor(90), tensor(0), tensor(45.), tensor(450))"
            ]
          },
          "metadata": {},
          "execution_count": 62
        }
      ]
    },
    {
      "cell_type": "code",
      "source": [
        "# Create a tensor\n",
        "tensor = torch.arange(10, 100, 10)\n",
        "print(f\"Tensor: {tensor}\")\n",
        "\n",
        "# Returns index of max and min values\n",
        "print(f\"Index where max value occurs: {tensor.argmax()}\")\n",
        "print(f\"Index where min value occurs: {tensor.argmin()}\")"
      ],
      "metadata": {
        "colab": {
          "base_uri": "https://localhost:8080/"
        },
        "id": "qsQDQIgAujEf",
        "outputId": "6e6549d0-4869-4699-fd99-db75fd6ee5b1"
      },
      "execution_count": 63,
      "outputs": [
        {
          "output_type": "stream",
          "name": "stdout",
          "text": [
            "Tensor: tensor([10, 20, 30, 40, 50, 60, 70, 80, 90])\n",
            "Index where max value occurs: 8\n",
            "Index where min value occurs: 0\n"
          ]
        }
      ]
    },
    {
      "cell_type": "markdown",
      "source": [
        "### Change tensor datatype"
      ],
      "metadata": {
        "id": "vjAZ9JA9vGeL"
      }
    },
    {
      "cell_type": "code",
      "source": [
        "# Create a tensor and check its datatype\n",
        "tensorr = torch.arange(10., 100., 10.)\n",
        "tensorr.dtype"
      ],
      "metadata": {
        "colab": {
          "base_uri": "https://localhost:8080/"
        },
        "id": "oZ9yjl4TumY2",
        "outputId": "c860213d-64de-4885-c338-c100b98fe946"
      },
      "execution_count": 64,
      "outputs": [
        {
          "output_type": "execute_result",
          "data": {
            "text/plain": [
              "torch.float32"
            ]
          },
          "metadata": {},
          "execution_count": 64
        }
      ]
    },
    {
      "cell_type": "code",
      "source": [
        "# Create a float16 tensor\n",
        "tensor_float16 = tensorr.type(torch.float16)\n",
        "tensor_float16"
      ],
      "metadata": {
        "colab": {
          "base_uri": "https://localhost:8080/"
        },
        "id": "eW8WFxd2vIjN",
        "outputId": "d9845692-51f6-4294-a57d-4f352330ba73"
      },
      "execution_count": 65,
      "outputs": [
        {
          "output_type": "execute_result",
          "data": {
            "text/plain": [
              "tensor([10., 20., 30., 40., 50., 60., 70., 80., 90.], dtype=torch.float16)"
            ]
          },
          "metadata": {},
          "execution_count": 65
        }
      ]
    },
    {
      "cell_type": "markdown",
      "source": [
        "### Reshaping, stacking, squeezing and unsqueezing"
      ],
      "metadata": {
        "id": "s9EcdCy9vlxx"
      }
    },
    {
      "cell_type": "code",
      "source": [
        "# Create a tensor\n",
        "import torch\n",
        "x = torch.arange(1., 8.)\n",
        "x, x.shape, x.ndim"
      ],
      "metadata": {
        "colab": {
          "base_uri": "https://localhost:8080/"
        },
        "id": "AJgPogLEvN2b",
        "outputId": "39fae12c-db37-43e8-d688-cc30ecf9a766"
      },
      "execution_count": 66,
      "outputs": [
        {
          "output_type": "execute_result",
          "data": {
            "text/plain": [
              "(tensor([1., 2., 3., 4., 5., 6., 7.]), torch.Size([7]), 1)"
            ]
          },
          "metadata": {},
          "execution_count": 66
        }
      ]
    },
    {
      "cell_type": "markdown",
      "source": [
        "Ahora agreguemos una dimensión extra con `torch.reshape()`."
      ],
      "metadata": {
        "id": "jRTAaCqfvrBO"
      }
    },
    {
      "cell_type": "code",
      "source": [
        "# Add an extra dimension\n",
        "x_reshaped = x.reshape(1, 7)\n",
        "x_reshaped, x_reshaped.shape, x_reshaped.ndim"
      ],
      "metadata": {
        "colab": {
          "base_uri": "https://localhost:8080/"
        },
        "id": "-R7Xf6pKvtzr",
        "outputId": "509d899a-0f62-4e59-95ab-afb295b1312f"
      },
      "execution_count": 68,
      "outputs": [
        {
          "output_type": "execute_result",
          "data": {
            "text/plain": [
              "(tensor([[1., 2., 3., 4., 5., 6., 7.]]), torch.Size([1, 7]), 2)"
            ]
          },
          "metadata": {},
          "execution_count": 68
        }
      ]
    },
    {
      "cell_type": "code",
      "source": [
        "# Stack tensors on top of each other\n",
        "x_stacked = torch.stack([x, x, x, x], dim=0)\n",
        "x_stacked"
      ],
      "metadata": {
        "colab": {
          "base_uri": "https://localhost:8080/"
        },
        "id": "cjnkZ_1Sv_-c",
        "outputId": "f02b4317-cbe4-4894-df58-3ffc070e4b28"
      },
      "execution_count": 72,
      "outputs": [
        {
          "output_type": "execute_result",
          "data": {
            "text/plain": [
              "tensor([[1., 2., 3., 4., 5., 6., 7.],\n",
              "        [1., 2., 3., 4., 5., 6., 7.],\n",
              "        [1., 2., 3., 4., 5., 6., 7.],\n",
              "        [1., 2., 3., 4., 5., 6., 7.]])"
            ]
          },
          "metadata": {},
          "execution_count": 72
        }
      ]
    },
    {
      "cell_type": "code",
      "source": [
        "print(f\"Previous tensor: {x_reshaped}\")\n",
        "print(f\"Previous shape: {x_reshaped.shape}\")\n",
        "\n",
        "# Remove extra dimension from x_reshaped\n",
        "x_squeezed = x_reshaped.squeeze()\n",
        "print(f\"\\nNew tensor: {x_squeezed}\")\n",
        "print(f\"New shape: {x_squeezed.shape}\")"
      ],
      "metadata": {
        "colab": {
          "base_uri": "https://localhost:8080/"
        },
        "id": "TmrYMTPFwlQY",
        "outputId": "db2b10b1-5332-4ab6-acb0-5e6285dbcaaf"
      },
      "execution_count": 73,
      "outputs": [
        {
          "output_type": "stream",
          "name": "stdout",
          "text": [
            "Previous tensor: tensor([[1., 2., 3., 4., 5., 6., 7.]])\n",
            "Previous shape: torch.Size([1, 7])\n",
            "\n",
            "New tensor: tensor([1., 2., 3., 4., 5., 6., 7.])\n",
            "New shape: torch.Size([7])\n"
          ]
        }
      ]
    },
    {
      "cell_type": "code",
      "source": [
        "# Create tensor with specific shape\n",
        "x_original = torch.rand(size=(224, 224, 3))\n",
        "\n",
        "# Permute the original tensor to rearrange the axis order\n",
        "x_permuted = x_original.permute(2, 0, 1) # shifts axis 0->1, 1->2, 2->0\n",
        "\n",
        "print(f\"Previous shape: {x_original.shape}\")\n",
        "print(f\"New shape: {x_permuted.shape}\")"
      ],
      "metadata": {
        "colab": {
          "base_uri": "https://localhost:8080/"
        },
        "id": "OO1BYLZbww1M",
        "outputId": "04c42571-0cbd-4a0f-ba68-da89eb979113"
      },
      "execution_count": 74,
      "outputs": [
        {
          "output_type": "stream",
          "name": "stdout",
          "text": [
            "Previous shape: torch.Size([224, 224, 3])\n",
            "New shape: torch.Size([3, 224, 224])\n"
          ]
        }
      ]
    },
    {
      "cell_type": "markdown",
      "source": [
        "## Indexing (selecting data from tensors)"
      ],
      "metadata": {
        "id": "mckrbOMjztpJ"
      }
    },
    {
      "cell_type": "code",
      "source": [
        "# Create a tensor\n",
        "import torch\n",
        "x = torch.arange(1, 10).reshape(1, 3, 3)\n",
        "x, x.shape"
      ],
      "metadata": {
        "colab": {
          "base_uri": "https://localhost:8080/"
        },
        "id": "7am3UBQ6w2jf",
        "outputId": "6aafd842-514c-4f0d-9c88-3ee9f3d3c901"
      },
      "execution_count": 75,
      "outputs": [
        {
          "output_type": "execute_result",
          "data": {
            "text/plain": [
              "(tensor([[[1, 2, 3],\n",
              "          [4, 5, 6],\n",
              "          [7, 8, 9]]]),\n",
              " torch.Size([1, 3, 3]))"
            ]
          },
          "metadata": {},
          "execution_count": 75
        }
      ]
    },
    {
      "cell_type": "code",
      "source": [
        "# Let's index bracket by bracket\n",
        "print(f\"First square bracket:\\n{x[0]}\")\n",
        "print(f\"Second square bracket: {x[0][0]}\")\n",
        "print(f\"Third square bracket: {x[0][0][0]}\")"
      ],
      "metadata": {
        "colab": {
          "base_uri": "https://localhost:8080/"
        },
        "id": "DtbcQRdOzvTQ",
        "outputId": "32066a28-e0d7-452e-b52b-f051851b679a"
      },
      "execution_count": 76,
      "outputs": [
        {
          "output_type": "stream",
          "name": "stdout",
          "text": [
            "First square bracket:\n",
            "tensor([[1, 2, 3],\n",
            "        [4, 5, 6],\n",
            "        [7, 8, 9]])\n",
            "Second square bracket: tensor([1, 2, 3])\n",
            "Third square bracket: 1\n"
          ]
        }
      ]
    },
    {
      "cell_type": "code",
      "source": [
        "# Get all values of 0th dimension and the 0 index of 1st dimension\n",
        "x[:, 0]"
      ],
      "metadata": {
        "colab": {
          "base_uri": "https://localhost:8080/"
        },
        "id": "1dKNdA7ZzwrW",
        "outputId": "1a473bb9-ed7c-4878-aab6-9db8b5a6e7c5"
      },
      "execution_count": 84,
      "outputs": [
        {
          "output_type": "execute_result",
          "data": {
            "text/plain": [
              "tensor([[1, 2, 3]])"
            ]
          },
          "metadata": {},
          "execution_count": 84
        }
      ]
    },
    {
      "cell_type": "code",
      "source": [
        "# Get all values of 0th & 1st dimensions but only index 1 of 2nd dimension\n",
        "x[:, :, 1]"
      ],
      "metadata": {
        "colab": {
          "base_uri": "https://localhost:8080/"
        },
        "id": "0MAQhbbLz2oW",
        "outputId": "823d59d2-edd9-4daf-d543-e6a07a843d58"
      },
      "execution_count": 85,
      "outputs": [
        {
          "output_type": "execute_result",
          "data": {
            "text/plain": [
              "tensor([[2, 5, 8]])"
            ]
          },
          "metadata": {},
          "execution_count": 85
        }
      ]
    },
    {
      "cell_type": "code",
      "source": [
        "# Get all values of the 0 dimension but only the 1 index value of the 1st and 2nd dimension\n",
        "x[:, 1, 1]"
      ],
      "metadata": {
        "colab": {
          "base_uri": "https://localhost:8080/"
        },
        "id": "uVp4MxqVz6gd",
        "outputId": "85a1b0ae-4520-4c51-d149-51252d5c005e"
      },
      "execution_count": 86,
      "outputs": [
        {
          "output_type": "execute_result",
          "data": {
            "text/plain": [
              "tensor([5])"
            ]
          },
          "metadata": {},
          "execution_count": 86
        }
      ]
    },
    {
      "cell_type": "code",
      "source": [
        "# Get index 0 of 0th and 1st dimension and all values of 2nd dimension\n",
        "x[0, 0, :] # same as x[0][0]"
      ],
      "metadata": {
        "colab": {
          "base_uri": "https://localhost:8080/"
        },
        "id": "991D6_6qz-oh",
        "outputId": "23ae7deb-f0fd-4264-a893-af6c7ffcdd2c"
      },
      "execution_count": 87,
      "outputs": [
        {
          "output_type": "execute_result",
          "data": {
            "text/plain": [
              "tensor([1, 2, 3])"
            ]
          },
          "metadata": {},
          "execution_count": 87
        }
      ]
    },
    {
      "cell_type": "code",
      "source": [],
      "metadata": {
        "id": "TK9aXSKkQVJQ"
      },
      "execution_count": null,
      "outputs": []
    },
    {
      "cell_type": "markdown",
      "source": [
        "## PyTorch tensors & NumPy\n",
        "Dado que NumPy es una popular biblioteca de computación numérica de Python, PyTorch tiene la funcionalidad para interactuar con ella muy bien.\n",
        "\n",
        "Los dos métodos principales para usar NumPy a PyTorch (y viceversa) son:\n",
        "* [`torch.from_numpy(ndarray)`](https://pytorch.org/docs/stable/generated/torch.from_numpy.html) - NumPy array -> PyTorch tensor.\n",
        "* [`torch.Tensor.numpy()`](https://pytorch.org/docs/stable/generated/torch.Tensor.numpy.html) - PyTorch tensor -> NumPy array."
      ],
      "metadata": {
        "id": "6I6EMZvr0OQl"
      }
    },
    {
      "cell_type": "code",
      "source": [
        "\n",
        "# NumPy array to tensor\n",
        "import torch\n",
        "import numpy as np\n",
        "array = np.arange(1.0, 8.0)\n",
        "tensor = torch.from_numpy(array)\n",
        "array, tensor"
      ],
      "metadata": {
        "colab": {
          "base_uri": "https://localhost:8080/"
        },
        "id": "4-FWTRq20AA_",
        "outputId": "76476682-8ecb-4e3a-90d6-d40981d5168b"
      },
      "execution_count": 88,
      "outputs": [
        {
          "output_type": "execute_result",
          "data": {
            "text/plain": [
              "(array([1., 2., 3., 4., 5., 6., 7.]),\n",
              " tensor([1., 2., 3., 4., 5., 6., 7.], dtype=torch.float64))"
            ]
          },
          "metadata": {},
          "execution_count": 88
        }
      ]
    },
    {
      "cell_type": "markdown",
      "source": [
        "## Reproducibility\n",
        "\n",
        "\n",
        "\n",
        "\n",
        "``start with random numbers -> tensor operations -> try to make better (again and again and again)``\n",
        "\n"
      ],
      "metadata": {
        "id": "fzZxByPF0mMs"
      }
    },
    {
      "cell_type": "code",
      "source": [
        "import torch\n",
        "\n",
        "# Create two random tensors\n",
        "random_tensor_A = torch.rand(3, 4)\n",
        "random_tensor_B = torch.rand(3, 4)\n",
        "\n",
        "print(f\"Tensor A:\\n{random_tensor_A}\\n\")\n",
        "print(f\"Tensor B:\\n{random_tensor_B}\\n\")\n",
        "print(f\"Does Tensor A equal Tensor B? (anywhere)\")\n",
        "print(random_tensor_A <= random_tensor_B)\n",
        "print(torch.equal(random_tensor_A, random_tensor_B))"
      ],
      "metadata": {
        "colab": {
          "base_uri": "https://localhost:8080/"
        },
        "id": "Ckr7f9wy0Y9i",
        "outputId": "a393f382-7d85-4900-f65f-8ea3b3e6899e"
      },
      "execution_count": 94,
      "outputs": [
        {
          "output_type": "stream",
          "name": "stdout",
          "text": [
            "Tensor A:\n",
            "tensor([[0.5779, 0.9040, 0.5547, 0.3423],\n",
            "        [0.6343, 0.3644, 0.7104, 0.9464],\n",
            "        [0.7890, 0.2814, 0.7886, 0.5895]])\n",
            "\n",
            "Tensor B:\n",
            "tensor([[0.7539, 0.1952, 0.0050, 0.3068],\n",
            "        [0.1165, 0.9103, 0.6440, 0.7071],\n",
            "        [0.6581, 0.4913, 0.8913, 0.1447]])\n",
            "\n",
            "Does Tensor A equal Tensor B? (anywhere)\n",
            "tensor([[ True,  True,  True, False],\n",
            "        [ True, False,  True,  True],\n",
            "        [ True, False,  True,  True]])\n",
            "False\n"
          ]
        }
      ]
    },
    {
      "cell_type": "code",
      "source": [
        "import torch\n",
        "import random\n",
        "\n",
        "# # Set the random seed\n",
        "RANDOM_SEED=42 # try changing this to different values and see what happens to the numbers below\n",
        "torch.manual_seed(seed=RANDOM_SEED)\n",
        "random_tensor_C = torch.rand(3, 4)\n",
        "\n",
        "# Have to reset the seed every time a new rand() is called\n",
        "# Without this, tensor_D would be different to tensor_C\n",
        "torch.random.manual_seed(seed=RANDOM_SEED) # try commenting this line out and seeing what happens\n",
        "random_tensor_D = torch.rand(3, 4)\n",
        "\n",
        "print(f\"Tensor C:\\n{random_tensor_C}\\n\")\n",
        "print(f\"Tensor D:\\n{random_tensor_D}\\n\")\n",
        "print(f\"Does Tensor C equal Tensor D? (anywhere)\")\n",
        "random_tensor_C == random_tensor_D"
      ],
      "metadata": {
        "colab": {
          "base_uri": "https://localhost:8080/"
        },
        "id": "i6lOuiXw0z2u",
        "outputId": "6be1c666-172e-4522-90d0-e0f548f6f491"
      },
      "execution_count": 92,
      "outputs": [
        {
          "output_type": "stream",
          "name": "stdout",
          "text": [
            "Tensor C:\n",
            "tensor([[0.8823, 0.9150, 0.3829, 0.9593],\n",
            "        [0.3904, 0.6009, 0.2566, 0.7936],\n",
            "        [0.9408, 0.1332, 0.9346, 0.5936]])\n",
            "\n",
            "Tensor D:\n",
            "tensor([[0.8823, 0.9150, 0.3829, 0.9593],\n",
            "        [0.3904, 0.6009, 0.2566, 0.7936],\n",
            "        [0.9408, 0.1332, 0.9346, 0.5936]])\n",
            "\n",
            "Does Tensor C equal Tensor D? (anywhere)\n"
          ]
        },
        {
          "output_type": "execute_result",
          "data": {
            "text/plain": [
              "tensor([[True, True, True, True],\n",
              "        [True, True, True, True],\n",
              "        [True, True, True, True]])"
            ]
          },
          "metadata": {},
          "execution_count": 92
        }
      ]
    },
    {
      "cell_type": "markdown",
      "source": [
        "### 1. Getting a GPU"
      ],
      "metadata": {
        "id": "XtbdazM02jb7"
      }
    },
    {
      "cell_type": "code",
      "source": [
        "!nvidia-smi"
      ],
      "metadata": {
        "colab": {
          "base_uri": "https://localhost:8080/"
        },
        "id": "QcrUAElm2XV7",
        "outputId": "5870cc13-bafc-4b20-db5b-fe2d6f950612"
      },
      "execution_count": 1,
      "outputs": [
        {
          "output_type": "stream",
          "name": "stdout",
          "text": [
            "Tue Sep 26 16:03:07 2023       \n",
            "+-----------------------------------------------------------------------------+\n",
            "| NVIDIA-SMI 525.105.17   Driver Version: 525.105.17   CUDA Version: 12.0     |\n",
            "|-------------------------------+----------------------+----------------------+\n",
            "| GPU  Name        Persistence-M| Bus-Id        Disp.A | Volatile Uncorr. ECC |\n",
            "| Fan  Temp  Perf  Pwr:Usage/Cap|         Memory-Usage | GPU-Util  Compute M. |\n",
            "|                               |                      |               MIG M. |\n",
            "|===============================+======================+======================|\n",
            "|   0  Tesla T4            Off  | 00000000:00:04.0 Off |                    0 |\n",
            "| N/A   56C    P8    10W /  70W |      0MiB / 15360MiB |      0%      Default |\n",
            "|                               |                      |                  N/A |\n",
            "+-------------------------------+----------------------+----------------------+\n",
            "                                                                               \n",
            "+-----------------------------------------------------------------------------+\n",
            "| Processes:                                                                  |\n",
            "|  GPU   GI   CI        PID   Type   Process name                  GPU Memory |\n",
            "|        ID   ID                                                   Usage      |\n",
            "|=============================================================================|\n",
            "|  No running processes found                                                 |\n",
            "+-----------------------------------------------------------------------------+\n"
          ]
        }
      ]
    },
    {
      "cell_type": "markdown",
      "source": [],
      "metadata": {
        "id": "Y6RoAfXX2uNZ"
      }
    },
    {
      "cell_type": "code",
      "source": [
        "# Check for GPU\n",
        "import torch\n",
        "torch.cuda.is_available()"
      ],
      "metadata": {
        "colab": {
          "base_uri": "https://localhost:8080/"
        },
        "id": "LTMyobHa2uVK",
        "outputId": "609b7cd3-4c0f-4153-9c03-5040689c4224"
      },
      "execution_count": 2,
      "outputs": [
        {
          "output_type": "execute_result",
          "data": {
            "text/plain": [
              "True"
            ]
          },
          "metadata": {},
          "execution_count": 2
        }
      ]
    },
    {
      "cell_type": "code",
      "source": [
        "# Set device type\n",
        "device = \"cuda\" if torch.cuda.is_available() else \"cpu\"\n",
        "device"
      ],
      "metadata": {
        "colab": {
          "base_uri": "https://localhost:8080/",
          "height": 35
        },
        "id": "w3bmZ0XY2uum",
        "outputId": "6820cc84-41b4-434f-85c1-e860fbccb20d"
      },
      "execution_count": 3,
      "outputs": [
        {
          "output_type": "execute_result",
          "data": {
            "text/plain": [
              "'cuda'"
            ],
            "application/vnd.google.colaboratory.intrinsic+json": {
              "type": "string"
            }
          },
          "metadata": {},
          "execution_count": 3
        }
      ]
    },
    {
      "cell_type": "code",
      "source": [
        "# Count number of devices\n",
        "torch.cuda.device_count()"
      ],
      "metadata": {
        "colab": {
          "base_uri": "https://localhost:8080/"
        },
        "id": "9JWL8LS120nP",
        "outputId": "5f29f6ee-b287-438d-8568-e876128cfece"
      },
      "execution_count": 4,
      "outputs": [
        {
          "output_type": "execute_result",
          "data": {
            "text/plain": [
              "1"
            ]
          },
          "metadata": {},
          "execution_count": 4
        }
      ]
    },
    {
      "cell_type": "code",
      "source": [
        "# Create tensor (default on CPU)\n",
        "tensor = torch.tensor([1, 2, 3])\n",
        "\n",
        "# Tensor not on GPU\n",
        "print(tensor, tensor.device)\n",
        "\n",
        "# Move tensor to GPU (if available)\n",
        "tensor_on_gpu = tensor.to(device)\n",
        "tensor_on_gpu"
      ],
      "metadata": {
        "colab": {
          "base_uri": "https://localhost:8080/"
        },
        "id": "yfZBtWhu21x5",
        "outputId": "50b4d2b2-f429-407d-b561-32d1cebbcccd"
      },
      "execution_count": 6,
      "outputs": [
        {
          "output_type": "stream",
          "name": "stdout",
          "text": [
            "tensor([1, 2, 3]) cpu\n"
          ]
        },
        {
          "output_type": "execute_result",
          "data": {
            "text/plain": [
              "tensor([1, 2, 3], device='cuda:0')"
            ]
          },
          "metadata": {},
          "execution_count": 6
        }
      ]
    },
    {
      "cell_type": "code",
      "source": [
        "tensor_on_gpu.cpu().numpy()"
      ],
      "metadata": {
        "colab": {
          "base_uri": "https://localhost:8080/"
        },
        "id": "bQgk87-z26NJ",
        "outputId": "dde6eaa8-8737-4d43-f7ea-79a4d405e69f"
      },
      "execution_count": 10,
      "outputs": [
        {
          "output_type": "execute_result",
          "data": {
            "text/plain": [
              "numpy.ndarray"
            ]
          },
          "metadata": {},
          "execution_count": 10
        }
      ]
    },
    {
      "cell_type": "code",
      "source": [],
      "metadata": {
        "id": "uziwWDfZ7n97"
      },
      "execution_count": null,
      "outputs": []
    },
    {
      "cell_type": "markdown",
      "source": [
        "## Exercises\n",
        "\n",
        "All of the exercises are focused on practicing the code above.\n",
        "\n",
        "You should be able to complete them by referencing each section or by following the resource(s) linked.\n",
        "\n",
        "**Resources:**\n",
        "\n",
        "* [Exercise template notebook for 00](https://github.com/mrdbourke/pytorch-deep-learning/blob/main/extras/exercises/00_pytorch_fundamentals_exercises.ipynb).\n",
        "* [Example solutions notebook for 00](https://github.com/mrdbourke/pytorch-deep-learning/blob/main/extras/solutions/00_pytorch_fundamentals_exercise_solutions.ipynb) (try the exercises *before* looking at this).\n",
        "\n",
        "1. Documentation reading - A big part of deep learning (and learning to code in general) is getting familiar with the documentation of a certain framework you're using. We'll be using the PyTorch documentation a lot throughout the rest of this course. So I'd recommend spending 10-minutes reading the following (it's okay if you don't get some things for now, the focus is not yet full understanding, it's awareness). See the documentation on [`torch.Tensor`](https://pytorch.org/docs/stable/tensors.html#torch-tensor) and for [`torch.cuda`](https://pytorch.org/docs/master/notes/cuda.html#cuda-semantics).\n",
        "2. Create a random tensor with shape `(7, 7)`.\n",
        "3. Perform a matrix multiplication on the tensor from 2 with another random tensor with shape `(1, 7)` (hint: you may have to transpose the second tensor).\n",
        "4. Set the random seed to `0` and do exercises 2 & 3 over again.\n",
        "5. Speaking of random seeds, we saw how to set it with `torch.manual_seed()` but is there a GPU equivalent? (hint: you'll need to look into the documentation for `torch.cuda` for this one). If there is, set the GPU random seed to `1234`.\n",
        "6. Create two random tensors of shape `(2, 3)` and send them both to the GPU (you'll need access to a GPU for this). Set `torch.manual_seed(1234)` when creating the tensors (this doesn't have to be the GPU random seed).\n",
        "7. Perform a matrix multiplication on the tensors you created in 6 (again, you may have to adjust the shapes of one of the tensors).\n",
        "8. Find the maximum and minimum values of the output of 7.\n",
        "9. Find the maximum and minimum index values of the output of 7.\n",
        "10. Make a random tensor with shape `(1, 1, 1, 10)` and then create a new tensor with all the `1` dimensions removed to be left with a tensor of shape `(10)`. Set the seed to `7` when you create it and print out the first tensor and it's shape as well as the second tensor and it's shape."
      ],
      "metadata": {
        "id": "-pLbJmL87kCX"
      }
    },
    {
      "cell_type": "code",
      "source": [],
      "metadata": {
        "id": "MusMKbvl7kUT"
      },
      "execution_count": null,
      "outputs": []
    }
  ]
}